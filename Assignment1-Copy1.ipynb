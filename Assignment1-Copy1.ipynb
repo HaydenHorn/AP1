{
 "cells": [
  {
   "cell_type": "markdown",
   "id": "63ca6216",
   "metadata": {},
   "source": [
    "# Assignment 1- Computer Science"
   ]
  },
  {
   "cell_type": "markdown",
   "id": "72c84cfc",
   "metadata": {},
   "source": [
    "## Hayden horn- Fall Semester"
   ]
  },
  {
   "cell_type": "code",
   "execution_count": 1,
   "id": "a9b41de3",
   "metadata": {},
   "outputs": [
    {
     "name": "stdout",
     "output_type": "stream",
     "text": [
      "Enter floating number43.1\n"
     ]
    }
   ],
   "source": [
    "x= input('Enter floating number')"
   ]
  },
  {
   "cell_type": "code",
   "execution_count": 2,
   "id": "43e862e0",
   "metadata": {},
   "outputs": [
    {
     "name": "stdout",
     "output_type": "stream",
     "text": [
      "Enter integer21\n"
     ]
    }
   ],
   "source": [
    "y= input('Enter integer')"
   ]
  },
  {
   "cell_type": "code",
   "execution_count": 4,
   "id": "9aa69c04",
   "metadata": {},
   "outputs": [],
   "source": [
    "a= float(x)"
   ]
  },
  {
   "cell_type": "code",
   "execution_count": 5,
   "id": "3231aafe",
   "metadata": {},
   "outputs": [],
   "source": [
    "b= int(y)"
   ]
  },
  {
   "cell_type": "code",
   "execution_count": 10,
   "id": "a5c2518e",
   "metadata": {},
   "outputs": [
    {
     "name": "stdout",
     "output_type": "stream",
     "text": [
      "64.1\n"
     ]
    }
   ],
   "source": [
    "print(a+b)"
   ]
  },
  {
   "cell_type": "code",
   "execution_count": 12,
   "id": "5d346689",
   "metadata": {},
   "outputs": [
    {
     "name": "stdout",
     "output_type": "stream",
     "text": [
      "22.1\n"
     ]
    }
   ],
   "source": [
    "print(a-b)"
   ]
  },
  {
   "cell_type": "code",
   "execution_count": 13,
   "id": "99385edc",
   "metadata": {},
   "outputs": [
    {
     "name": "stdout",
     "output_type": "stream",
     "text": [
      "905.1\n"
     ]
    }
   ],
   "source": [
    "print(a*b)"
   ]
  },
  {
   "cell_type": "code",
   "execution_count": 14,
   "id": "673966cc",
   "metadata": {},
   "outputs": [
    {
     "name": "stdout",
     "output_type": "stream",
     "text": [
      "2.0523809523809526\n"
     ]
    }
   ],
   "source": [
    "print(a/b)"
   ]
  },
  {
   "cell_type": "code",
   "execution_count": null,
   "id": "86b184a1",
   "metadata": {},
   "outputs": [],
   "source": []
  }
 ],
 "metadata": {
  "kernelspec": {
   "display_name": "Python 3",
   "language": "python",
   "name": "python3"
  },
  "language_info": {
   "codemirror_mode": {
    "name": "ipython",
    "version": 3
   },
   "file_extension": ".py",
   "mimetype": "text/x-python",
   "name": "python",
   "nbconvert_exporter": "python",
   "pygments_lexer": "ipython3",
   "version": "3.8.8"
  }
 },
 "nbformat": 4,
 "nbformat_minor": 5
}
